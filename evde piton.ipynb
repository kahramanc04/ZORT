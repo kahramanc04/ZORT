{
 "cells": [
  {
   "cell_type": "code",
   "execution_count": 1,
   "id": "dc779150",
   "metadata": {},
   "outputs": [
    {
     "name": "stdout",
     "output_type": "stream",
     "text": [
      "nigga sayısı giriniz 44\n",
      "stupid nigger\n"
     ]
    }
   ],
   "source": [
    "nigga = int(input(\"nigga sayısı giriniz \"))\n",
    "if nigga<54 :\n",
    "    print(\"stupid nigger\")\n",
    "else:\n",
    "        print(\"fok yu ma nigga\")"
   ]
  },
  {
   "cell_type": "code",
   "execution_count": 2,
   "id": "9d640e76",
   "metadata": {},
   "outputs": [
    {
     "name": "stdout",
     "output_type": "stream",
     "text": [
      "zeynepsu için bir sayı girin :)45\n",
      "-2\n",
      "2\n",
      "6\n",
      "10\n",
      "14\n",
      "18\n",
      "22\n",
      "26\n",
      "30\n",
      "34\n",
      "38\n",
      "42\n",
      "46\n",
      "50\n",
      "54\n",
      "58\n",
      "62\n",
      "66\n",
      "70\n",
      "74\n",
      "78\n",
      "82\n",
      "86\n",
      "90\n",
      "94\n",
      "98\n",
      "102\n",
      "106\n",
      "110\n",
      "114\n",
      "118\n",
      "122\n",
      "126\n",
      "130\n",
      "134\n",
      "138\n",
      "142\n",
      "146\n",
      "150\n",
      "154\n",
      "158\n",
      "162\n",
      "166\n",
      "170\n",
      "174\n"
     ]
    }
   ],
   "source": [
    "zeynepsu = int(input(\"zeynepsu için bir sayı girin :)\"))\n",
    "for kahraman in range(0,zeynepsu):\n",
    "    print((kahraman-2) + (kahraman*3) )"
   ]
  },
  {
   "cell_type": "code",
   "execution_count": 4,
   "id": "126a035a",
   "metadata": {
    "scrolled": true
   },
   "outputs": [
    {
     "name": "stdout",
     "output_type": "stream",
     "text": [
      "vize sayısı giriniz 11\n",
      "gay sayısı giriniz 58\n",
      "final sayısı giriniz 96\n",
      "iyisin ama çalışman lazım\n"
     ]
    }
   ],
   "source": [
    "vize = int(input(\"vize sayısı giriniz \"))\n",
    "gay = int(input(\"gay sayısı giriniz \"))\n",
    "final = int(input(\"final sayısı giriniz \"))\n",
    "\n",
    "if (vize+gay+final)/3<40:\n",
    "    print(\"kaldın aptal oç seni\")\n",
    "    \n",
    "elif  80>(vize+gay+final)/3>40:\n",
    "        print(\"iyisin ama çalışman lazım\")\n",
    "        \n",
    "else:\n",
    "            print(\"aşkın olayım icardi edit \")\n"
   ]
  },
  {
   "cell_type": "code",
   "execution_count": 2,
   "id": "09fd8d78",
   "metadata": {},
   "outputs": [
    {
     "name": "stdout",
     "output_type": "stream",
     "text": [
      "1\n",
      "2\n",
      "3\n",
      "4\n",
      "6\n",
      "7\n",
      "12\n",
      "14\n",
      "21\n",
      "28\n",
      "42\n",
      "84\n"
     ]
    }
   ],
   "source": [
    "for number in range(1,85):\n",
    "    if 84 % number ==0:\n",
    "        print(number)"
   ]
  },
  {
   "cell_type": "code",
   "execution_count": 1,
   "id": "9b44702b",
   "metadata": {},
   "outputs": [
    {
     "name": "stdout",
     "output_type": "stream",
     "text": [
      "bir g sayısı giriniz45\n",
      "1\n",
      "3\n",
      "5\n",
      "9\n",
      "15\n",
      "45\n"
     ]
    }
   ],
   "source": [
    "g=int(input(\"bir g sayısı giriniz\"))\n",
    "\n",
    "for number in range(1,g+1):\n",
    "    if g%number==0:\n",
    "        print(number)\n"
   ]
  },
  {
   "cell_type": "code",
   "execution_count": 7,
   "id": "6e983f2b",
   "metadata": {},
   "outputs": [
    {
     "name": "stdout",
     "output_type": "stream",
     "text": [
      "1\n",
      "3\n",
      "5\n",
      "9\n",
      "15\n",
      "45\n",
      "1\n",
      "2\n",
      "3\n",
      "5\n",
      "6\n",
      "9\n",
      "10\n",
      "15\n",
      "18\n",
      "30\n",
      "45\n",
      "90\n",
      "1\n",
      "3\n",
      "5\n",
      "9\n",
      "15\n",
      "27\n",
      "45\n",
      "135\n",
      "1\n",
      "2\n",
      "3\n",
      "6\n",
      "29\n",
      "58\n",
      "87\n",
      "174\n",
      "1\n",
      "3\n",
      "7\n",
      "9\n",
      "21\n",
      "27\n",
      "63\n",
      "189\n"
     ]
    }
   ],
   "source": [
    "liste = [45,90,135,174,189]\n",
    "\n",
    "for number in liste:\n",
    "    for gay in range(1,number+1):\n",
    "        if number%gay==0:\n",
    "            print(gay)\n",
    "     \n",
    "        "
   ]
  },
  {
   "cell_type": "code",
   "execution_count": 2,
   "id": "de53c8fd",
   "metadata": {},
   "outputs": [
    {
     "name": "stdout",
     "output_type": "stream",
     "text": [
      "2\n",
      "3\n",
      "5\n",
      "7\n",
      "11\n",
      "13\n",
      "17\n",
      "19\n",
      "23\n",
      "29\n",
      "31\n",
      "37\n",
      "41\n",
      "43\n",
      "47\n",
      "53\n",
      "59\n",
      "61\n",
      "67\n",
      "71\n",
      "73\n",
      "79\n",
      "83\n",
      "89\n",
      "97\n"
     ]
    }
   ],
   "source": [
    "for number in range(2,101):\n",
    "    for zeynepsu in range(2,number):\n",
    "        if number % zeynepsu ==0:\n",
    "            break\n",
    "    else:\n",
    "            print(number)\n"
   ]
  },
  {
   "cell_type": "code",
   "execution_count": 5,
   "id": "31762923",
   "metadata": {
    "scrolled": true
   },
   "outputs": [
    {
     "name": "stdout",
     "output_type": "stream",
     "text": [
      "bir n sayısı giriniz5\n",
      "bu sayı asal değil\n"
     ]
    }
   ],
   "source": [
    "n = int(input(\"bir n sayısı giriniz\"))\n",
    "for number in range(2,n):\n",
    "    if (n % number) == 0:\n",
    "        print(\"bu sayı asal değildir\")\n",
    "        break\n",
    "                   \n",
    "    else:\n",
    "        print(\"bu sayı asaldır\")\n",
    "        \n",
    "        \n",
    "\n"
   ]
  },
  {
   "cell_type": "code",
   "execution_count": 10,
   "id": "ec9a1086",
   "metadata": {},
   "outputs": [
    {
     "name": "stdout",
     "output_type": "stream",
     "text": [
      "Faktöriyel'i hesaplanacak sayıyı giriniz: 0\n",
      "Sıfır'ın faktöriyel'i 1'dir.\n"
     ]
    }
   ],
   "source": [
    "sayi = int(input(\"Faktöriyel'i hesaplanacak sayıyı giriniz: \"))\n",
    "carp = 1\n",
    "\n",
    "if sayi == 0:\n",
    "    print(\"Sıfır'ın faktöriyel'i 1'dir.\".format(sayi))\n",
    "else:\n",
    "    for i in range(1,sayi+1):\n",
    "        carp*=i# \n",
    "    print(\"{} sayısının faktöriyel'i {}'dir\".format(sayi,carp))"
   ]
  },
  {
   "cell_type": "code",
   "execution_count": null,
   "id": "183e6cd0",
   "metadata": {},
   "outputs": [],
   "source": [
    "print(\"isiminiz{},soy isminiz{}\".format( \" cınbılaz\",\" kahraman\"))\n"
   ]
  },
  {
   "cell_type": "code",
   "execution_count": null,
   "id": "514ac155",
   "metadata": {},
   "outputs": [],
   "source": [
    "\n",
    "            \n"
   ]
  },
  {
   "cell_type": "code",
   "execution_count": null,
   "id": "a0ae36d6",
   "metadata": {},
   "outputs": [],
   "source": [
    "x = 6\n",
    "sayi = 1\n",
    "while x > 1:\n",
    "    sayi = sayi * x #pyhtonda işlemlere sağdan sola bakarak yapılıyor yanı ilk başta sonuç sayı 1 x 6 sonra sayı 6 x 5 oluyor\n",
    "    # daha sonra sayı  30 x 4 şekilde gidiyor aslında tersten faktoriyel oluyor 0 a gelince de duruyor döngü\n",
    "    x-=1\n",
    "print(sayi)"
   ]
  },
  {
   "cell_type": "code",
   "execution_count": null,
   "id": "a908135a",
   "metadata": {},
   "outputs": [],
   "source": [
    "sayi=int(input(\"Sayıyı Girin : \"))\n",
    "if sayi > 1:\n",
    "   \n",
    "   for i in range(2,sayi):\n",
    "       if (sayi % i) == 0:\n",
    "           print(sayi,\" Asal Sayı Değildir.\")\n",
    "           break\n",
    "   else:\n",
    "       print(sayi,\" Asal Sayıdır.\")\n",
    " \n",
    "else:\n",
    "   print(sayi,\" Asal Sayı Değildir.\")"
   ]
  },
  {
   "cell_type": "code",
   "execution_count": null,
   "id": "e0151f43",
   "metadata": {},
   "outputs": [],
   "source": [
    "#fak1\n",
    "number=int(input(\"please enter a number\"))\n",
    "counter=1\n",
    "if number==0:\n",
    "    print(\"0 sayısının faktoriyeli 1 dir\")\n",
    "\n",
    "\n",
    "else:\n",
    "    for variable in range(1,number+1):\n",
    "        counter= variable*counter\n",
    "        \n",
    "print(\"{} sayısının faktoriyeli {} dir\".format(number,counter))\n",
    "    \n",
    "    "
   ]
  },
  {
   "cell_type": "code",
   "execution_count": null,
   "id": "ef67d7a1",
   "metadata": {},
   "outputs": [],
   "source": [
    "#fak2\n",
    "sayı=int(input(\"bir sayı giriniz\"))\n",
    "x=1\n",
    "\n",
    "if sayı==0 :\n",
    "    print(\"{} sayısının faktoriyeli 1 dir \".format(sayı))\n",
    "else:\n",
    "    for number in range(1,sayı+1):\n",
    "        x*=number \n",
    "        print(\"{} sayısının faktoriyeli {}\".format(sayı,x))\n",
    "            \n",
    "        #aralarındaki fark printin burada for un altında olması for daki her bir dögüyü tek tek yazıyor o yüzden \n",
    "        # üstte print en son veriyi yazıyor "
   ]
  },
  {
   "cell_type": "code",
   "execution_count": null,
   "id": "79f9b4ec",
   "metadata": {},
   "outputs": [],
   "source": []
  },
  {
   "cell_type": "code",
   "execution_count": null,
   "id": "98d547a1",
   "metadata": {},
   "outputs": [],
   "source": []
  },
  {
   "cell_type": "code",
   "execution_count": null,
   "id": "23b46b40",
   "metadata": {},
   "outputs": [],
   "source": []
  },
  {
   "cell_type": "code",
   "execution_count": null,
   "id": "397b8486",
   "metadata": {},
   "outputs": [],
   "source": []
  },
  {
   "cell_type": "code",
   "execution_count": null,
   "id": "bf1eba88",
   "metadata": {},
   "outputs": [],
   "source": [
    "\n"
   ]
  },
  {
   "cell_type": "code",
   "execution_count": 13,
   "id": "ff75797e",
   "metadata": {},
   "outputs": [
    {
     "name": "stdout",
     "output_type": "stream",
     "text": [
      "please enter a number452\n",
      "this numbers factoriel is 3533506829824763928727384642597107197831211820353954676258140892378737430591719484842642260981825120362035921971649789196675115546082203998272013021160900137514685970918482818713992418765221526987327078501115242807775483042412779688924340813969157000183682820272417582028489728147095129657183124291540458544042008042308380209909521405261876650259890680856773620209537637283796820053989247467149927627961552294580550952469260983442106755636337923358986227938968407629525884163551160250413810663393375726553978267372218225149951277125676798635196020745367822389395617923504943624125663319680434143005773774604463235049693710573430697836267162808939901956973469135147732902625853854071028668714544129217566600618356409313276875853809090798339243992641683705023568437935027990326287472932723871360087563484400872035948548998162682529960398228018792200024088672237899492243427383271259922886532530176000000000000000000000000000000000000000000000000000000000000000000000000000000000000000000000000000000000000000\n"
     ]
    }
   ],
   "source": [
    " \n",
    "nigars=int(input(\"please enter a number\"))\n",
    "variable=1\n",
    "\n",
    "if nigars==0:\n",
    "    print(\"zeros  factoriel is equals to one\")\n",
    "    \n",
    "else:\n",
    "    while nigars>1:\n",
    "        variable=variable*nigars\n",
    "        nigars-=1\n",
    "    \n",
    "    print(\"this numbers factoriel is {}\".format(variable))\n",
    "        \n",
    "    \n"
   ]
  },
  {
   "cell_type": "code",
   "execution_count": null,
   "id": "ae073958",
   "metadata": {},
   "outputs": [],
   "source": []
  },
  {
   "cell_type": "code",
   "execution_count": null,
   "id": "3037b777",
   "metadata": {},
   "outputs": [],
   "source": []
  }
 ],
 "metadata": {
  "kernelspec": {
   "display_name": "Python 3 (ipykernel)",
   "language": "python",
   "name": "python3"
  },
  "language_info": {
   "codemirror_mode": {
    "name": "ipython",
    "version": 3
   },
   "file_extension": ".py",
   "mimetype": "text/x-python",
   "name": "python",
   "nbconvert_exporter": "python",
   "pygments_lexer": "ipython3",
   "version": "3.11.5"
  }
 },
 "nbformat": 4,
 "nbformat_minor": 5
}
