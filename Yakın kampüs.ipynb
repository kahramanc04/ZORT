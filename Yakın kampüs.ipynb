{
 "cells": [
  {
   "cell_type": "code",
   "execution_count": null,
   "id": "3a9e9ebf",
   "metadata": {},
   "outputs": [],
   "source": [
    "#burada  format ne işe yarar ona bakacağız \n",
    "print(\"benim adım{}\".format(\" kahraman\"))\n",
    "#burada .format yazdıktan sonraki parantezin içinde yazanı direkt printin içine koyuyor bu bir değişken de olabilir atatığın\n",
    "#bir değişkeni oraya koyabilirsin\n",
    "print(\"benim adım {ad}, {yas}\".format(ad=\"kahraman\",yas=\"3\"))\n",
    "#birden fazla değişken yazdırmak istersen bunlara isim koyup direkt yazdırabilrsin isim koymazsan sol baştan sıra ile koyar\n",
    "#pythonda sayma 0 dan başlar 0 1 2 3  gibi devam eder \n"
   ]
  },
  {
   "cell_type": "markdown",
   "id": "59574228",
   "metadata": {},
   "source": [
    "\n",
    "\n"
   ]
  },
  {
   "cell_type": "code",
   "execution_count": null,
   "id": "99fee768",
   "metadata": {},
   "outputs": [],
   "source": [
    "# % işareti modül alma kalanı veriyor yani sadece 11%4 = 3 olarak çıktı verir"
   ]
  },
  {
   "cell_type": "code",
   "execution_count": 3,
   "id": "400c3899",
   "metadata": {},
   "outputs": [
    {
     "name": "stdout",
     "output_type": "stream",
     "text": [
      "0 sayısı ondan küçüktür\n",
      "1 sayısı ondan küçüktür\n",
      "2 sayısı ondan küçüktür\n",
      "3 sayısı ondan küçüktür\n",
      "4 sayısı ondan küçüktür\n",
      "5 sayısı ondan küçüktür\n",
      "6 sayısı ondan küçüktür\n",
      "7 sayısı ondan küçüktür\n",
      "8 sayısı ondan küçüktür\n",
      "9 sayısı ondan küçüktür\n"
     ]
    }
   ],
   "source": [
    "x=0\n",
    "while x<10:\n",
    "    print(\"{} sayısı ondan küçüktür\".format(x))\n",
    "    x +=1"
   ]
  },
  {
   "cell_type": "code",
   "execution_count": 10,
   "id": "6f99faa4",
   "metadata": {},
   "outputs": [
    {
     "name": "stdout",
     "output_type": "stream",
     "text": [
      "1 sayısı ondan küçüktür\n",
      "2 sayısı ondan küçüktür\n",
      "3 sayısı ondan küçüktür\n",
      "4 sayısı ondan küçüktür\n",
      "5 sayısı ondan küçüktür\n",
      "6 sayısı ondan küçüktür\n",
      "7 sayısı ondan küçüktür\n",
      "8 sayısı ondan küçüktür\n",
      "9 sayısı ondan küçüktür\n",
      "10 sayısı ondan küçüktür\n"
     ]
    }
   ],
   "source": [
    "x=0\n",
    "while x <10:\n",
    "    x +=1\n",
    "    \n",
    "    print(\"{} sayısı ondan küçüktür\".format(x))\n",
    "    #yukarıda direkt 0 dan başladı burada 1 den başladı fakat 10 da dahil etmiş oldu yazdığın kodun yerinin önemi var "
   ]
  },
  {
   "cell_type": "code",
   "execution_count": null,
   "id": "0c3f2f6a",
   "metadata": {},
   "outputs": [],
   "source": []
  },
  {
   "cell_type": "code",
   "execution_count": null,
   "id": "77559266",
   "metadata": {},
   "outputs": [],
   "source": [
    "\n"
   ]
  },
  {
   "cell_type": "code",
   "execution_count": 2,
   "id": "34cadc01",
   "metadata": {},
   "outputs": [
    {
     "name": "stdout",
     "output_type": "stream",
     "text": [
      "1. Katilimcinin Adi Ismail, Soyadi Aydemir\n",
      "2. Katilimcinin Adi Uygar, Soyadi Aydin\n",
      "3. Katilimcinin Adi Naz, Soyadi Yagcioglu\n",
      "1. Moderatörün Adi Ferhat, Soyadi Ibrik\n",
      "4. Katilimcinin Adi Ulas, Soyadi Acil\n",
      "5. Katilimcinin Adi Bilal, Soyadi Kurucay\n"
     ]
    }
   ],
   "source": [
    "yorum_birakanlar = [\"Ismail Aydemir\", \"Uygar Aydin\", \"Naz Yagcioglu\",\"Ferhat Ibrik\",\"Ulas Acil\", \"Bilal Kurucay\"]\n",
    "\n",
    "moderator = \"Ferhat Ibrik\"\n",
    "\n",
    "kullanici_sayi = 0\n",
    "moderator_sayi = 0\n",
    "\n",
    "for isim in yorum_birakanlar:\n",
    "    ad, soyad = isim.split()[0], isim.split()[1]\n",
    "    if(isim == moderator):\n",
    "        moderator_sayi+=1\n",
    "        print('{}. Moderatörün Adi {}, Soyadi {}'.format(moderator_sayi,ad,soyad))\n",
    "    else:\n",
    "        kullanici_sayi+=1\n",
    "        print('{}. Katilimcinin Adi {}, Soyadi {}'.format(kullanici_sayi,ad,soyad))   "
   ]
  },
  {
   "cell_type": "code",
   "execution_count": 3,
   "id": "d4e0c7c3",
   "metadata": {},
   "outputs": [
    {
     "name": "stdout",
     "output_type": "stream",
     "text": [
      "1\n",
      "3\n",
      "5\n",
      "7\n"
     ]
    }
   ],
   "source": [
    "tup1 = (1,3,5,7)\n",
    "for sayi in tup1:\n",
    "    print(sayi)"
   ]
  },
  {
   "cell_type": "code",
   "execution_count": 17,
   "id": "9bd0589a",
   "metadata": {},
   "outputs": [
    {
     "name": "stdout",
     "output_type": "stream",
     "text": [
      "0\n",
      "6\n",
      "20\n"
     ]
    }
   ],
   "source": [
    "liste = [[0,1],[2,3],[4,5]]# bir liste içerisinde başka bir liste olduğunda x ve y gibi iki farklı değişkenle bu listeleri \n",
    "#kontrol edebiliriz eğer 3 tane olsa bir de y eklememiz gerekir ne kadar eleman o kadar değişken\n",
    "for x,y in liste: \n",
    "    print(x*y)"
   ]
  },
  {
   "cell_type": "code",
   "execution_count": 2,
   "id": "8a4be815",
   "metadata": {},
   "outputs": [
    {
     "name": "stdout",
     "output_type": "stream",
     "text": [
      "Key: ad \t Value: Naz\n",
      "Key: soyad \t Value: Yagcioglu\n"
     ]
    }
   ],
   "source": [
    "kullanici1 = {'ad': 'Naz', 'soyad':'Yagcioglu'}\n",
    "for key, value in kullanici1.items():\n",
    "    print(\"Key: {} \\t Value: {}\".format(key, value))"
   ]
  },
  {
   "cell_type": "code",
   "execution_count": 2,
   "id": "9ea524b7",
   "metadata": {},
   "outputs": [
    {
     "name": "stdout",
     "output_type": "stream",
     "text": [
      "bir sayı giriniz5\n",
      "5\n"
     ]
    }
   ],
   "source": [
    "n=int(input(\"bir sayı giriniz\"))\n",
    "çarpan=1\n",
    "while n>0:\n",
    "    çarpan=n*çarpan\n",
    "    n=-1\n",
    "    \n",
    "print(çarpan)"
   ]
  },
  {
   "cell_type": "code",
   "execution_count": null,
   "id": "e79655f7",
   "metadata": {},
   "outputs": [],
   "source": [
    "index = 0\n",
    "harfler = ['a','b','c','d','e']\n",
    "for harf in harfler:\n",
    "    index += 1\n",
    "    if harf == 'c':\n",
    "        print(\"{} harfi {} konumda ve {}. indexte!\".format(harf, index, index-1))\n",
    "        break"
   ]
  },
  {
   "cell_type": "code",
   "execution_count": null,
   "id": "4796d299",
   "metadata": {},
   "outputs": [],
   "source": [
    "ulkeler = ['TR', 'FR', 'DE']\n",
    "siralama = [1,2,3]           #zip iki iterable ı aynı eleman sayısı olacak şekilde birbiri ile birleştiriyor \n",
    "                                        #iki liste birleştiriyor gibi düşünülebilir\n",
    "for ulke in zip(siralama, ulkeler):\n",
    "    print(ulke)"
   ]
  },
  {
   "cell_type": "code",
   "execution_count": null,
   "id": "8e4258d8",
   "metadata": {},
   "outputs": [],
   "source": []
  },
  {
   "cell_type": "code",
   "execution_count": 6,
   "id": "363b3244",
   "metadata": {},
   "outputs": [
    {
     "name": "stdout",
     "output_type": "stream",
     "text": [
      "1 a\n",
      "2 b\n",
      "3 c\n",
      "4 d\n",
      "5 e\n"
     ]
    }
   ],
   "source": [
    "harfler = ['a','b','c','d','e']\n",
    "for index, value in enumerate(harfler):#burada enumerate 0 dan başlayarak numaralandırıyor aslında listedekileri index veriyor \n",
    "    print(index+1, value)#index diye belirttiğimiz şey aslında komutun verdeiği numaralar iki öğeli bir liste gibi oluyor komut "
   ]
  },
  {
   "cell_type": "code",
   "execution_count": 8,
   "id": "ebe61dbf",
   "metadata": {},
   "outputs": [
    {
     "name": "stdout",
     "output_type": "stream",
     "text": [
      "1. harf  a  dır \n",
      "2. harf  b  dır \n",
      "3. harf  c  dır \n",
      "4. harf  d  dır \n",
      "5. harf  e  dır \n"
     ]
    }
   ],
   "source": [
    "harfler = ['a','b','c','d','e']\n",
    "for index, value in enumerate(harfler):\n",
    "    print(\"{}. harf  {}  dır \".format(index+1, value))#burada da görüldüğü gibi aslında 0,a ilk liste öğesi gibi oluyor bu \n",
    "                                                      #bu sayede de birinci eleman üzerinde oyanamalar yapılıyor +1 gibi    "
   ]
  },
  {
   "cell_type": "code",
   "execution_count": null,
   "id": "5af5fcad",
   "metadata": {},
   "outputs": [],
   "source": [
    "TAB KODLARIN KALAN KISMINI TAMAMLIYOR"
   ]
  },
  {
   "cell_type": "code",
   "execution_count": 9,
   "id": "ce67eeb3",
   "metadata": {},
   "outputs": [
    {
     "ename": "SyntaxError",
     "evalue": "invalid syntax (2633002076.py, line 1)",
     "output_type": "error",
     "traceback": [
      "\u001b[1;36m  Cell \u001b[1;32mIn[9], line 1\u001b[1;36m\u001b[0m\n\u001b[1;33m    COUNTİNUE o sırayı geçip bir diğerinden devam ediyor döngüye\u001b[0m\n\u001b[1;37m              ^\u001b[0m\n\u001b[1;31mSyntaxError\u001b[0m\u001b[1;31m:\u001b[0m invalid syntax\n"
     ]
    }
   ],
   "source": [
    "COUNTİNUE o sırayı geçip bir diğerinden devam ediyor döngüye "
   ]
  },
  {
   "cell_type": "code",
   "execution_count": 15,
   "id": "ce413bfe",
   "metadata": {},
   "outputs": [
    {
     "data": {
      "text/plain": [
       "'Berlin'"
      ]
     },
     "execution_count": 15,
     "metadata": {},
     "output_type": "execute_result"
    }
   ],
   "source": [
    "# dictinoary \n",
    "dict3 = {\n",
    "    'isim': 'Mesut',\n",
    "    'yas': 32,\n",
    "    'lokasyon': {\n",
    "        'dogdugu_sehir': 'Istanbul',\n",
    "        'yasadigi_sehir': 'Berlin'\n",
    "    } \n",
    "}\n",
    "dict3['yas'] # bir Dictionary den ifafde çağırmak için kapalı parantez kullanılabilir\n",
    "dict3.get('yas')##   .get de olur \n",
    "dict3['lokasyon']['yasadigi_sehir']# Dictionary nin içindeki ikinci Dictionary ye ulşmak için iki tane parantez lazım \n",
    "dict3.get('lokasyon').get('yasadigi_sehir')\n",
    "\n"
   ]
  },
  {
   "cell_type": "code",
   "execution_count": 12,
   "id": "e1b3e32f",
   "metadata": {},
   "outputs": [
    {
     "data": {
      "text/plain": [
       "dict_items([('isim', 'Mesut'), ('yas', 32), ('lokasyon', {'dogdugu_sehir': 'Istanbul', 'yasadigi_sehir': 'Berlin'})])"
      ]
     },
     "execution_count": 12,
     "metadata": {},
     "output_type": "execute_result"
    }
   ],
   "source": [
    "dict3.items()# hem anahatarları hemde karşılıklarını basar\n"
   ]
  },
  {
   "cell_type": "code",
   "execution_count": 13,
   "id": "b61fc100",
   "metadata": {},
   "outputs": [
    {
     "data": {
      "text/plain": [
       "dict_values(['Mesut', 32, {'dogdugu_sehir': 'Istanbul', 'yasadigi_sehir': 'Berlin'}])"
      ]
     },
     "execution_count": 13,
     "metadata": {},
     "output_type": "execute_result"
    }
   ],
   "source": [
    "dict3.values()#sadece değerleri basar\n"
   ]
  },
  {
   "cell_type": "code",
   "execution_count": 14,
   "id": "09aa8cb1",
   "metadata": {},
   "outputs": [
    {
     "data": {
      "text/plain": [
       "dict_keys(['isim', 'yas', 'lokasyon'])"
      ]
     },
     "execution_count": 14,
     "metadata": {},
     "output_type": "execute_result"
    }
   ],
   "source": [
    "dict3.keys()#anahatarları basar \n"
   ]
  },
  {
   "cell_type": "code",
   "execution_count": null,
   "id": "bdb73539",
   "metadata": {},
   "outputs": [],
   "source": []
  },
  {
   "cell_type": "code",
   "execution_count": null,
   "id": "199921f8",
   "metadata": {},
   "outputs": [],
   "source": []
  },
  {
   "cell_type": "code",
   "execution_count": null,
   "id": "96b48330",
   "metadata": {},
   "outputs": [],
   "source": []
  }
 ],
 "metadata": {
  "kernelspec": {
   "display_name": "Python 3 (ipykernel)",
   "language": "python",
   "name": "python3"
  },
  "language_info": {
   "codemirror_mode": {
    "name": "ipython",
    "version": 3
   },
   "file_extension": ".py",
   "mimetype": "text/x-python",
   "name": "python",
   "nbconvert_exporter": "python",
   "pygments_lexer": "ipython3",
   "version": "3.11.5"
  }
 },
 "nbformat": 4,
 "nbformat_minor": 5
}
