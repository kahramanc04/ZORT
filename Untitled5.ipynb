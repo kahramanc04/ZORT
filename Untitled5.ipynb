{
 "cells": [
  {
   "cell_type": "code",
   "execution_count": 12,
   "id": "f71c7c07",
   "metadata": {},
   "outputs": [],
   "source": [
    "kullanici1 = {\n",
    "    'ad': 'Ferhat',\n",
    "    'soyad': 'Ibrik',\n",
    "    'uzmanlik': ['Front-End']\n",
    "}\n",
    "kullanici2 = {\n",
    "    'ad': 'Gokce',\n",
    "    'soyad': 'Gün',\n",
    "    'uzmanlik': ['Tasarim']\n",
    "}\n",
    "kullanici3 = {\n",
    "    'ad': 'Mesut',\n",
    "    'soyad': 'Gün',\n",
    "    'uzmanlik': ['Front-End']\n",
    "}\n",
    "\n",
    "kullanici_listesi = [kullanici1, kullanici2, kullanici3] # Soru 2: Front-end alanindaki uzmanlarin isimlerini döndür\n",
    "\n",
    "for taklacı in kullanici_listesi:\n",
    "    if uzmanlik in taklacı ==['Front-End']:\n",
    "        taklacı.get(\"ad\")"
   ]
  },
  {
   "cell_type": "code",
   "execution_count": 14,
   "id": "c4217410",
   "metadata": {},
   "outputs": [
    {
     "data": {
      "text/plain": [
       "dict_items([('ad', 'Ferhat'), ('soyad', 'Ibrik'), ('uzmanlik', ['Front-End'])])"
      ]
     },
     "execution_count": 14,
     "metadata": {},
     "output_type": "execute_result"
    }
   ],
   "source": [
    "# Soru 1: Ferhat Ibrik Kullanicisinin uzmanlik alanlarini döndür\n",
    "kullanici1.items()\n"
   ]
  },
  {
   "cell_type": "code",
   "execution_count": 11,
   "id": "f434cfbe",
   "metadata": {},
   "outputs": [],
   "source": [
    "\n",
    "kullanici_listesi = [kullanici1, kullanici2, kullanici3] # Soru 2: Front-end alanindaki uzmanlarin isimlerini döndür\n",
    "\n",
    "for taklacı in kullanici_listesi:\n",
    "    if uzmanlik in taklacı ==['Front-End']:\n",
    "        taklacı.get(\"ad\")\n",
    "        \n",
    "            \n",
    "           \n",
    "    \n"
   ]
  },
  {
   "cell_type": "code",
   "execution_count": 19,
   "id": "806def0b",
   "metadata": {},
   "outputs": [
    {
     "name": "stdout",
     "output_type": "stream",
     "text": [
      "please enter a number for factoriel calculation10\n",
      "number10  factoriel is 3628800\n"
     ]
    }
   ],
   "source": [
    "number=int(input(\"please enter a number for factoriel calculation\"))\n",
    "variable=1\n",
    "if number==0:\n",
    "    print(\"this numbers factoriel is zero \")\n",
    "\n",
    "else:\n",
    "    for zy in range(1,number+1):\n",
    "        variable=variable*zy\n",
    "print(\"number{}  factoriel is {}\".format(number,variable))\n",
    "\n",
    "    \n",
    "            \n"
   ]
  },
  {
   "cell_type": "code",
   "execution_count": null,
   "id": "f956c7cf",
   "metadata": {},
   "outputs": [],
   "source": []
  },
  {
   "cell_type": "code",
   "execution_count": null,
   "id": "639e974d",
   "metadata": {},
   "outputs": [],
   "source": []
  },
  {
   "cell_type": "code",
   "execution_count": null,
   "id": "86cea537",
   "metadata": {},
   "outputs": [],
   "source": []
  },
  {
   "cell_type": "code",
   "execution_count": null,
   "id": "2291915b",
   "metadata": {},
   "outputs": [],
   "source": []
  },
  {
   "cell_type": "code",
   "execution_count": null,
   "id": "3a1d1ca2",
   "metadata": {},
   "outputs": [],
   "source": []
  },
  {
   "cell_type": "code",
   "execution_count": null,
   "id": "14cd7d4b",
   "metadata": {},
   "outputs": [],
   "source": []
  },
  {
   "cell_type": "code",
   "execution_count": null,
   "id": "72fb3216",
   "metadata": {},
   "outputs": [],
   "source": []
  },
  {
   "cell_type": "code",
   "execution_count": null,
   "id": "83968d69",
   "metadata": {},
   "outputs": [],
   "source": []
  },
  {
   "cell_type": "code",
   "execution_count": null,
   "id": "26d6cfda",
   "metadata": {},
   "outputs": [],
   "source": []
  },
  {
   "cell_type": "code",
   "execution_count": null,
   "id": "c44b6872",
   "metadata": {},
   "outputs": [],
   "source": []
  },
  {
   "cell_type": "code",
   "execution_count": null,
   "id": "e549cbea",
   "metadata": {},
   "outputs": [],
   "source": []
  },
  {
   "cell_type": "code",
   "execution_count": null,
   "id": "1ab5fe7c",
   "metadata": {},
   "outputs": [],
   "source": []
  },
  {
   "cell_type": "code",
   "execution_count": null,
   "id": "8096b108",
   "metadata": {},
   "outputs": [],
   "source": []
  },
  {
   "cell_type": "code",
   "execution_count": null,
   "id": "53573bd0",
   "metadata": {},
   "outputs": [],
   "source": []
  },
  {
   "cell_type": "code",
   "execution_count": null,
   "id": "068781c2",
   "metadata": {},
   "outputs": [],
   "source": []
  }
 ],
 "metadata": {
  "kernelspec": {
   "display_name": "Python 3 (ipykernel)",
   "language": "python",
   "name": "python3"
  },
  "language_info": {
   "codemirror_mode": {
    "name": "ipython",
    "version": 3
   },
   "file_extension": ".py",
   "mimetype": "text/x-python",
   "name": "python",
   "nbconvert_exporter": "python",
   "pygments_lexer": "ipython3",
   "version": "3.11.5"
  }
 },
 "nbformat": 4,
 "nbformat_minor": 5
}
